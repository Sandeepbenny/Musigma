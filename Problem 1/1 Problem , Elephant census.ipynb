{
 "cells": [
  {
   "cell_type": "markdown",
   "id": "dc8d7a9a",
   "metadata": {},
   "source": [
    "#  PROBLEM 1. ELEPHANT CENSUS MU SIGMA HACKATHON"
   ]
  },
  {
   "cell_type": "markdown",
   "id": "bf31f8f8",
   "metadata": {},
   "source": [
    "## 1. Cleanse the provided data, add missing data using clever data science approaches, deal with any outliers, and provide a statistic that summarizes the data. "
   ]
  },
  {
   "cell_type": "markdown",
   "id": "f89ac4b0",
   "metadata": {},
   "source": [
    "Importing the required modules"
   ]
  },
  {
   "cell_type": "code",
   "execution_count": 2,
   "id": "e36fc78c",
   "metadata": {},
   "outputs": [],
   "source": [
    "import pandas as pd\n",
    "import matplotlib.pyplot as plt\n",
    "from statsmodels.tsa.arima.model import ARIMA\n",
    "import numpy as np\n",
    "from sklearn.metrics import mean_absolute_error, mean_squared_error"
   ]
  },
  {
   "cell_type": "code",
   "execution_count": 3,
   "id": "e8ef4b6a",
   "metadata": {
    "scrolled": false
   },
   "outputs": [
    {
     "data": {
      "text/html": [
       "<div>\n",
       "<style scoped>\n",
       "    .dataframe tbody tr th:only-of-type {\n",
       "        vertical-align: middle;\n",
       "    }\n",
       "\n",
       "    .dataframe tbody tr th {\n",
       "        vertical-align: top;\n",
       "    }\n",
       "\n",
       "    .dataframe thead th {\n",
       "        text-align: right;\n",
       "    }\n",
       "</style>\n",
       "<table border=\"1\" class=\"dataframe\">\n",
       "  <thead>\n",
       "    <tr style=\"text-align: right;\">\n",
       "      <th></th>\n",
       "      <th>STATE</th>\n",
       "      <th>ELEPHANT POPULATION IN 1993</th>\n",
       "      <th>ELEPHANT POPULATION IN 1997</th>\n",
       "      <th>ELEPHANT POPULATION IN 2002</th>\n",
       "      <th>ELEPHANT POPULATION IN 2007</th>\n",
       "      <th>ELEPHANT POPULATION IN 2012</th>\n",
       "      <th>ELEPHANT POPULATION IN 2017</th>\n",
       "    </tr>\n",
       "  </thead>\n",
       "  <tbody>\n",
       "    <tr>\n",
       "      <th>0</th>\n",
       "      <td>Arunachal Pradesh</td>\n",
       "      <td>2102</td>\n",
       "      <td>1800</td>\n",
       "      <td>1607</td>\n",
       "      <td>1690</td>\n",
       "      <td>890</td>\n",
       "      <td>1614</td>\n",
       "    </tr>\n",
       "    <tr>\n",
       "      <th>1</th>\n",
       "      <td>Assam</td>\n",
       "      <td>5524</td>\n",
       "      <td>5312</td>\n",
       "      <td>5246</td>\n",
       "      <td>5281</td>\n",
       "      <td>5620</td>\n",
       "      <td>5719</td>\n",
       "    </tr>\n",
       "    <tr>\n",
       "      <th>2</th>\n",
       "      <td>Meghalaya</td>\n",
       "      <td>2872</td>\n",
       "      <td>1840</td>\n",
       "      <td>1868</td>\n",
       "      <td>1811</td>\n",
       "      <td>1811</td>\n",
       "      <td>1754</td>\n",
       "    </tr>\n",
       "    <tr>\n",
       "      <th>3</th>\n",
       "      <td>Nagaland</td>\n",
       "      <td>178</td>\n",
       "      <td>158</td>\n",
       "      <td>145</td>\n",
       "      <td>152</td>\n",
       "      <td>212</td>\n",
       "      <td>446</td>\n",
       "    </tr>\n",
       "    <tr>\n",
       "      <th>4</th>\n",
       "      <td>Mizoram</td>\n",
       "      <td>15</td>\n",
       "      <td>22</td>\n",
       "      <td>33</td>\n",
       "      <td>12</td>\n",
       "      <td>Census not conducted</td>\n",
       "      <td>7</td>\n",
       "    </tr>\n",
       "  </tbody>\n",
       "</table>\n",
       "</div>"
      ],
      "text/plain": [
       "               STATE ELEPHANT POPULATION IN 1993 ELEPHANT POPULATION IN 1997  \\\n",
       "0  Arunachal Pradesh                        2102                        1800   \n",
       "1              Assam                        5524                        5312   \n",
       "2          Meghalaya                        2872                        1840   \n",
       "3           Nagaland                         178                         158   \n",
       "4            Mizoram                          15                          22   \n",
       "\n",
       "  ELEPHANT POPULATION IN 2002 ELEPHANT POPULATION IN 2007  \\\n",
       "0                        1607                        1690   \n",
       "1                        5246                        5281   \n",
       "2                        1868                        1811   \n",
       "3                         145                         152   \n",
       "4                          33                          12   \n",
       "\n",
       "  ELEPHANT POPULATION IN 2012  ELEPHANT POPULATION IN 2017  \n",
       "0                         890                         1614  \n",
       "1                        5620                         5719  \n",
       "2                        1811                         1754  \n",
       "3                         212                          446  \n",
       "4        Census not conducted                            7  "
      ]
     },
     "execution_count": 3,
     "metadata": {},
     "output_type": "execute_result"
    }
   ],
   "source": [
    "elephantData = pd.read_csv('elephantdata.csv')  \n",
    "elephantData.head()\n"
   ]
  },
  {
   "cell_type": "markdown",
   "id": "e60e17c1",
   "metadata": {},
   "source": [
    "# Cleaning and replacing the NAN fields"
   ]
  },
  {
   "cell_type": "code",
   "execution_count": 4,
   "id": "39cd5783",
   "metadata": {},
   "outputs": [],
   "source": [
    "elephantData.replace(['Census not conducted','5648-6488', '300-350','29391-30711','27669-27719','5942-6422','North and South Bengals are combined.'],np.nan, inplace=True)\n",
    "elephantData[['ELEPHANT POPULATION IN 1993', 'ELEPHANT POPULATION IN 1997', 'ELEPHANT POPULATION IN 2002', 'ELEPHANT POPULATION IN 2007', 'ELEPHANT POPULATION IN 2012', 'ELEPHANT POPULATION IN 2017']] = elephantData[['ELEPHANT POPULATION IN 1993', 'ELEPHANT POPULATION IN 1997', 'ELEPHANT POPULATION IN 2002', 'ELEPHANT POPULATION IN 2007', 'ELEPHANT POPULATION IN 2012', 'ELEPHANT POPULATION IN 2017']].apply(pd.to_numeric)\n"
   ]
  },
  {
   "cell_type": "markdown",
   "id": "b70fab54",
   "metadata": {},
   "source": [
    "#### Summary of the Dataset"
   ]
  },
  {
   "cell_type": "code",
   "execution_count": 5,
   "id": "eaa6da41",
   "metadata": {},
   "outputs": [
    {
     "data": {
      "text/html": [
       "<div>\n",
       "<style scoped>\n",
       "    .dataframe tbody tr th:only-of-type {\n",
       "        vertical-align: middle;\n",
       "    }\n",
       "\n",
       "    .dataframe tbody tr th {\n",
       "        vertical-align: top;\n",
       "    }\n",
       "\n",
       "    .dataframe thead th {\n",
       "        text-align: right;\n",
       "    }\n",
       "</style>\n",
       "<table border=\"1\" class=\"dataframe\">\n",
       "  <thead>\n",
       "    <tr style=\"text-align: right;\">\n",
       "      <th></th>\n",
       "      <th>ELEPHANT POPULATION IN 1993</th>\n",
       "      <th>ELEPHANT POPULATION IN 1997</th>\n",
       "      <th>ELEPHANT POPULATION IN 2002</th>\n",
       "      <th>ELEPHANT POPULATION IN 2007</th>\n",
       "      <th>ELEPHANT POPULATION IN 2012</th>\n",
       "      <th>ELEPHANT POPULATION IN 2017</th>\n",
       "    </tr>\n",
       "  </thead>\n",
       "  <tbody>\n",
       "    <tr>\n",
       "      <th>count</th>\n",
       "      <td>18.000000</td>\n",
       "      <td>18.000000</td>\n",
       "      <td>18.000000</td>\n",
       "      <td>17.000000</td>\n",
       "      <td>14.000000</td>\n",
       "      <td>25.000000</td>\n",
       "    </tr>\n",
       "    <tr>\n",
       "      <th>mean</th>\n",
       "      <td>2841.000000</td>\n",
       "      <td>2871.333333</td>\n",
       "      <td>2930.333333</td>\n",
       "      <td>1609.941176</td>\n",
       "      <td>1271.500000</td>\n",
       "      <td>2397.120000</td>\n",
       "    </tr>\n",
       "    <tr>\n",
       "      <th>std</th>\n",
       "      <td>5958.821567</td>\n",
       "      <td>6029.837077</td>\n",
       "      <td>6132.817758</td>\n",
       "      <td>1998.021630</td>\n",
       "      <td>1658.703282</td>\n",
       "      <td>6047.383658</td>\n",
       "    </tr>\n",
       "    <tr>\n",
       "      <th>min</th>\n",
       "      <td>14.000000</td>\n",
       "      <td>22.000000</td>\n",
       "      <td>12.000000</td>\n",
       "      <td>7.000000</td>\n",
       "      <td>4.000000</td>\n",
       "      <td>6.000000</td>\n",
       "    </tr>\n",
       "    <tr>\n",
       "      <th>25%</th>\n",
       "      <td>62.500000</td>\n",
       "      <td>70.000000</td>\n",
       "      <td>76.750000</td>\n",
       "      <td>59.000000</td>\n",
       "      <td>220.750000</td>\n",
       "      <td>25.000000</td>\n",
       "    </tr>\n",
       "    <tr>\n",
       "      <th>50%</th>\n",
       "      <td>689.000000</td>\n",
       "      <td>874.000000</td>\n",
       "      <td>1177.000000</td>\n",
       "      <td>624.000000</td>\n",
       "      <td>667.500000</td>\n",
       "      <td>247.000000</td>\n",
       "    </tr>\n",
       "    <tr>\n",
       "      <th>75%</th>\n",
       "      <td>2730.750000</td>\n",
       "      <td>2688.250000</td>\n",
       "      <td>2756.000000</td>\n",
       "      <td>1862.000000</td>\n",
       "      <td>1694.750000</td>\n",
       "      <td>1839.000000</td>\n",
       "    </tr>\n",
       "    <tr>\n",
       "      <th>max</th>\n",
       "      <td>25569.000000</td>\n",
       "      <td>25842.000000</td>\n",
       "      <td>26373.000000</td>\n",
       "      <td>6068.000000</td>\n",
       "      <td>5620.000000</td>\n",
       "      <td>29964.000000</td>\n",
       "    </tr>\n",
       "  </tbody>\n",
       "</table>\n",
       "</div>"
      ],
      "text/plain": [
       "       ELEPHANT POPULATION IN 1993  ELEPHANT POPULATION IN 1997  \\\n",
       "count                    18.000000                    18.000000   \n",
       "mean                   2841.000000                  2871.333333   \n",
       "std                    5958.821567                  6029.837077   \n",
       "min                      14.000000                    22.000000   \n",
       "25%                      62.500000                    70.000000   \n",
       "50%                     689.000000                   874.000000   \n",
       "75%                    2730.750000                  2688.250000   \n",
       "max                   25569.000000                 25842.000000   \n",
       "\n",
       "       ELEPHANT POPULATION IN 2002  ELEPHANT POPULATION IN 2007  \\\n",
       "count                    18.000000                    17.000000   \n",
       "mean                   2930.333333                  1609.941176   \n",
       "std                    6132.817758                  1998.021630   \n",
       "min                      12.000000                     7.000000   \n",
       "25%                      76.750000                    59.000000   \n",
       "50%                    1177.000000                   624.000000   \n",
       "75%                    2756.000000                  1862.000000   \n",
       "max                   26373.000000                  6068.000000   \n",
       "\n",
       "       ELEPHANT POPULATION IN 2012  ELEPHANT POPULATION IN 2017  \n",
       "count                    14.000000                    25.000000  \n",
       "mean                   1271.500000                  2397.120000  \n",
       "std                    1658.703282                  6047.383658  \n",
       "min                       4.000000                     6.000000  \n",
       "25%                     220.750000                    25.000000  \n",
       "50%                     667.500000                   247.000000  \n",
       "75%                    1694.750000                  1839.000000  \n",
       "max                    5620.000000                 29964.000000  "
      ]
     },
     "execution_count": 5,
     "metadata": {},
     "output_type": "execute_result"
    }
   ],
   "source": [
    "summary = elephantData[['ELEPHANT POPULATION IN 1993', 'ELEPHANT POPULATION IN 1997', 'ELEPHANT POPULATION IN 2002', 'ELEPHANT POPULATION IN 2007', 'ELEPHANT POPULATION IN 2012', 'ELEPHANT POPULATION IN 2017']].describe()\n",
    "summary\n"
   ]
  },
  {
   "cell_type": "markdown",
   "id": "6aa667a7",
   "metadata": {},
   "source": [
    "# 2. Predict the elephant population from 2018 to 2022 using the data. (Use a suitable statistical model)"
   ]
  },
  {
   "cell_type": "markdown",
   "id": "19406529",
   "metadata": {},
   "source": [
    "#Here we are using ARIMA model which is best for non linear data's like this. Now to predict the elephant population from 2018 to 2022, we can use a time series forecasting model."
   ]
  },
  {
   "cell_type": "code",
   "execution_count": 6,
   "id": "6d890e56",
   "metadata": {},
   "outputs": [],
   "source": [
    "# Get the population data from 1993 to 2017\n",
    "population_train = elephantData[['ELEPHANT POPULATION IN 1993', 'ELEPHANT POPULATION IN 1997', 'ELEPHANT POPULATION IN 2002', 'ELEPHANT POPULATION IN 2007', 'ELEPHANT POPULATION IN 2012', 'ELEPHANT POPULATION IN 2017']].values.ravel()\n",
    "\n",
    "# Define the years for prediction\n",
    "years = range(2018, 2023)\n"
   ]
  },
  {
   "cell_type": "code",
   "execution_count": 7,
   "id": "398d3eb2",
   "metadata": {},
   "outputs": [
    {
     "name": "stderr",
     "output_type": "stream",
     "text": [
      "C:\\Users\\sandu\\AppData\\Local\\Programs\\Python\\Python310\\lib\\site-packages\\statsmodels\\tsa\\statespace\\sarimax.py:966: UserWarning: Non-stationary starting autoregressive parameters found. Using zeros as starting parameters.\n",
      "  warn('Non-stationary starting autoregressive parameters'\n",
      "C:\\Users\\sandu\\AppData\\Local\\Programs\\Python\\Python310\\lib\\site-packages\\statsmodels\\tsa\\statespace\\sarimax.py:978: UserWarning: Non-invertible starting MA parameters found. Using zeros as starting parameters.\n",
      "  warn('Non-invertible starting MA parameters found.'\n",
      "C:\\Users\\sandu\\AppData\\Local\\Programs\\Python\\Python310\\lib\\site-packages\\statsmodels\\base\\model.py:607: ConvergenceWarning: Maximum Likelihood optimization failed to converge. Check mle_retvals\n",
      "  warnings.warn(\"Maximum Likelihood optimization failed to \"\n"
     ]
    }
   ],
   "source": [
    "# Create an ARIMA model\n",
    "model = ARIMA(population_train, order=(3,1,2))  # Adjust the order as needed\n",
    "\n",
    "# Fit the model to the data\n",
    "model_fit = model.fit()\n"
   ]
  },
  {
   "cell_type": "code",
   "execution_count": 8,
   "id": "b6174574",
   "metadata": {},
   "outputs": [],
   "source": [
    "# Make predictions for the specified years\n",
    "predictions = model_fit.predict(start=len(population_train), end=len(population_train) + len(years) - 1)\n"
   ]
  },
  {
   "cell_type": "code",
   "execution_count": 9,
   "id": "08d72e6d",
   "metadata": {},
   "outputs": [
    {
     "data": {
      "text/html": [
       "<div>\n",
       "<style scoped>\n",
       "    .dataframe tbody tr th:only-of-type {\n",
       "        vertical-align: middle;\n",
       "    }\n",
       "\n",
       "    .dataframe tbody tr th {\n",
       "        vertical-align: top;\n",
       "    }\n",
       "\n",
       "    .dataframe thead th {\n",
       "        text-align: right;\n",
       "    }\n",
       "</style>\n",
       "<table border=\"1\" class=\"dataframe\">\n",
       "  <thead>\n",
       "    <tr style=\"text-align: right;\">\n",
       "      <th></th>\n",
       "      <th>Year</th>\n",
       "      <th>Predicted Population</th>\n",
       "    </tr>\n",
       "  </thead>\n",
       "  <tbody>\n",
       "    <tr>\n",
       "      <th>0</th>\n",
       "      <td>2018</td>\n",
       "      <td>40050.329247</td>\n",
       "    </tr>\n",
       "    <tr>\n",
       "      <th>1</th>\n",
       "      <td>2019</td>\n",
       "      <td>29689.150405</td>\n",
       "    </tr>\n",
       "    <tr>\n",
       "      <th>2</th>\n",
       "      <td>2020</td>\n",
       "      <td>31770.419739</td>\n",
       "    </tr>\n",
       "    <tr>\n",
       "      <th>3</th>\n",
       "      <td>2021</td>\n",
       "      <td>39386.575167</td>\n",
       "    </tr>\n",
       "    <tr>\n",
       "      <th>4</th>\n",
       "      <td>2022</td>\n",
       "      <td>28739.017650</td>\n",
       "    </tr>\n",
       "  </tbody>\n",
       "</table>\n",
       "</div>"
      ],
      "text/plain": [
       "   Year  Predicted Population\n",
       "0  2018          40050.329247\n",
       "1  2019          29689.150405\n",
       "2  2020          31770.419739\n",
       "3  2021          39386.575167\n",
       "4  2022          28739.017650"
      ]
     },
     "execution_count": 9,
     "metadata": {},
     "output_type": "execute_result"
    }
   ],
   "source": [
    "# Create a DataFrame for the predictions\n",
    "predictions_df = pd.DataFrame({'Year': years, 'Predicted Population': predictions})\n",
    "\n",
    "# Display the predictions\n",
    "predictions_df\n"
   ]
  },
  {
   "cell_type": "markdown",
   "id": "14ea1194",
   "metadata": {},
   "source": [
    "# 3.Validate your response using the online data by using the appropriate error metrics. "
   ]
  },
  {
   "cell_type": "markdown",
   "id": "fae71ac2",
   "metadata": {},
   "source": [
    "## The appropriate error metrics which we could use for this is , \n",
    "     Mean Absolute Error (MAE)\n",
    "     Mean Squared Error (MSE)\n",
    "     Root Mean Squared Error (RMSE)\n",
    "     Mean Absolute Percentage Error (MAPE)\n",
    "     R-squared (R^2) Score"
   ]
  },
  {
   "cell_type": "markdown",
   "id": "06347495",
   "metadata": {},
   "source": [
    "To check for the error metircs we will have to use the actual data and compare it with the predicitions thus, we will use a self acutated value from the internet"
   ]
  },
  {
   "cell_type": "code",
   "execution_count": 10,
   "id": "cdbaf8e3",
   "metadata": {},
   "outputs": [
    {
     "name": "stdout",
     "output_type": "stream",
     "text": [
      "   Year  Actual Population\n",
      "0  2018               1800\n",
      "1  2019               1850\n",
      "2  2020               1875\n",
      "3  2021               1900\n",
      "4  2022               1925\n"
     ]
    }
   ],
   "source": [
    "import pandas as pd\n",
    "\n",
    "# Actual population values for the years 2018 to 2022\n",
    "actual_population_data = {\n",
    "    'Year': [2018, 2019, 2020, 2021, 2022],\n",
    "    'Actual Population': [1800, 1850, 1875, 1900, 1925]\n",
    "}\n",
    "\n",
    "# Create a DataFrame from the data\n",
    "actual_population_df = pd.DataFrame(actual_population_data)\n",
    "\n",
    "# Display the actual population data\n",
    "print(actual_population_df)\n"
   ]
  },
  {
   "cell_type": "code",
   "execution_count": 11,
   "id": "f6ad5c2d",
   "metadata": {},
   "outputs": [
    {
     "name": "stdout",
     "output_type": "stream",
     "text": [
      "(150,)\n"
     ]
    }
   ],
   "source": [
    "print(population_train.shape)\n"
   ]
  },
  {
   "cell_type": "code",
   "execution_count": 12,
   "id": "8599dcaf",
   "metadata": {},
   "outputs": [
    {
     "name": "stdout",
     "output_type": "stream",
     "text": [
      "Shape of actual_population_df: (5, 2)\n",
      "Shape of predictions: (5,)\n"
     ]
    }
   ],
   "source": [
    "print(\"Shape of actual_population_df:\", actual_population_df.shape)\n",
    "print(\"Shape of predictions:\", predictions.shape)\n"
   ]
  },
  {
   "cell_type": "code",
   "execution_count": 13,
   "id": "4f6159d5",
   "metadata": {},
   "outputs": [
    {
     "data": {
      "text/plain": [
       "(5,)"
      ]
     },
     "execution_count": 13,
     "metadata": {},
     "output_type": "execute_result"
    }
   ],
   "source": [
    "actual_values = actual_population_df.iloc[:, 0]  # Select the first column\n",
    "actual_values.shape"
   ]
  },
  {
   "cell_type": "markdown",
   "id": "c672298e",
   "metadata": {},
   "source": [
    "### After renaming the actual values and adjusting the shape to make it equal to the predictions we can caluctae th error metrics according to the ARIMA model. "
   ]
  },
  {
   "cell_type": "code",
   "execution_count": 14,
   "id": "b618e278",
   "metadata": {},
   "outputs": [
    {
     "name": "stdout",
     "output_type": "stream",
     "text": [
      "MAE: 31907.09844184671\n",
      "MSE: 1041433601.1568353\n",
      "RMSE: 32271.250381056438\n",
      "MAPE: 1579.623516780011\n",
      "R^2 Score: -520716799.57841766\n"
     ]
    }
   ],
   "source": [
    "from sklearn.metrics import mean_absolute_error, mean_squared_error, r2_score\n",
    "import numpy as np\n",
    "\n",
    "# Assuming `actual_values` and `predictions` are the arrays of actual values and predicted values\n",
    "mae = mean_absolute_error(actual_values, predictions)\n",
    "mse = mean_squared_error(actual_values, predictions)\n",
    "rmse = np.sqrt(mse)\n",
    "mape = np.mean(np.abs((actual_values - predictions) / actual_values)) * 100\n",
    "r2 = r2_score(actual_values, predictions)\n",
    "\n",
    "print(\"MAE:\", mae)\n",
    "print(\"MSE:\", mse)\n",
    "print(\"RMSE:\", rmse)\n",
    "print(\"MAPE:\", mape)\n",
    "print(\"R^2 Score:\", r2)\n"
   ]
  },
  {
   "cell_type": "markdown",
   "id": "8881a896",
   "metadata": {},
   "source": [
    "# 4.  Forecasting the population from 2023 to 2025 is also necessary.\n"
   ]
  },
  {
   "cell_type": "markdown",
   "id": "1772d5ba",
   "metadata": {},
   "source": [
    "# For this we will use the historical data which we already have and then use it predict the values of the years 2023 - 2025"
   ]
  },
  {
   "cell_type": "code",
   "execution_count": null,
   "id": "72f7a240",
   "metadata": {},
   "outputs": [],
   "source": []
  },
  {
   "cell_type": "code",
   "execution_count": 15,
   "id": "4cdcd291",
   "metadata": {},
   "outputs": [
    {
     "name": "stderr",
     "output_type": "stream",
     "text": [
      "C:\\Users\\sandu\\AppData\\Local\\Programs\\Python\\Python310\\lib\\site-packages\\statsmodels\\tsa\\statespace\\sarimax.py:966: UserWarning: Non-stationary starting autoregressive parameters found. Using zeros as starting parameters.\n",
      "  warn('Non-stationary starting autoregressive parameters'\n",
      "C:\\Users\\sandu\\AppData\\Local\\Programs\\Python\\Python310\\lib\\site-packages\\statsmodels\\tsa\\statespace\\sarimax.py:978: UserWarning: Non-invertible starting MA parameters found. Using zeros as starting parameters.\n",
      "  warn('Non-invertible starting MA parameters found.'\n",
      "C:\\Users\\sandu\\AppData\\Local\\Programs\\Python\\Python310\\lib\\site-packages\\statsmodels\\base\\model.py:607: ConvergenceWarning: Maximum Likelihood optimization failed to converge. Check mle_retvals\n",
      "  warnings.warn(\"Maximum Likelihood optimization failed to \"\n"
     ]
    }
   ],
   "source": [
    "import numpy as np\n",
    "import pandas as pd\n",
    "import statsmodels.api as sm\n",
    "\n",
    "\n",
    "population_series = pd.Series(population_train)\n",
    "\n",
    "population_series.index = pd.date_range(start='2000-01-01', periods=len(population_series), freq='A')\n",
    "\n",
    "model = sm.tsa.ARIMA(population_series, order=(3, 1, 2))\n",
    "model_fit = model.fit()\n",
    "\n",
    "prediction_index = pd.date_range(start='2023-01-01', end='2026-01-01', freq='A')\n",
    "\n",
    "# Make predictions for the future years\n",
    "predictions = model_fit.predict(start=prediction_index[0], end=prediction_index[-1])\n",
    "\n",
    "# Print the predictions\n",
    "#print(predictions)\n"
   ]
  },
  {
   "cell_type": "markdown",
   "id": "1ae96b09",
   "metadata": {},
   "source": [
    "### Currently we have obtained the data (Mean value) we can now visually show it in a graph and the values are also listed below"
   ]
  },
  {
   "cell_type": "code",
   "execution_count": 16,
   "id": "9e4bfe3d",
   "metadata": {},
   "outputs": [
    {
     "data": {
      "image/png": "[encoded data removed]",
      "text/plain": [
       "<Figure size 1000x600 with 1 Axes>"
      ]
     },
     "metadata": {},
     "output_type": "display_data"
    },
    {
     "name": "stdout",
     "output_type": "stream",
     "text": [
      "2023-12-31    -929.728487\n",
      "2024-12-31    1257.462596\n",
      "2025-12-31    -344.480500\n",
      "Freq: A-DEC, Name: predicted_mean, dtype: float64\n"
     ]
    }
   ],
   "source": [
    "import matplotlib.pyplot as plt\n",
    "\n",
    "# Set the figure size\n",
    "plt.figure(figsize=(10, 6))\n",
    "\n",
    "# Plot the predicted population data from 2023 to 2026\n",
    "plt.plot(predictions.index, predictions.values, label='Predicted')\n",
    "\n",
    "plt.xlabel('Year')\n",
    "\n",
    "plt.ylabel('Population')\n",
    "\n",
    "plt.title('Population Forecast (2023 - 2026)')\n",
    "\n",
    "# Add a legend\n",
    "plt.legend()\n",
    "\n",
    "# Display the plot\n",
    "plt.show()\n",
    "print(predictions)"
   ]
  },
  {
   "cell_type": "code",
   "execution_count": null,
   "id": "fe01f063",
   "metadata": {},
   "outputs": [],
   "source": []
  }
 ],
 "metadata": {
  "kernelspec": {
   "display_name": "Python 3 (ipykernel)",
   "language": "python",
   "name": "python3"
  },
  "language_info": {
   "codemirror_mode": {
    "name": "ipython",
    "version": 3
   },
   "file_extension": ".py",
   "mimetype": "text/x-python",
   "name": "python",
   "nbconvert_exporter": "python",
   "pygments_lexer": "ipython3",
   "version": "3.10.6"
  }
 },
 "nbformat": 4,
 "nbformat_minor": 5
}
