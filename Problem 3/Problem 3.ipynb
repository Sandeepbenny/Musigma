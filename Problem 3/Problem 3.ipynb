{
 "cells": [
  {
   "cell_type": "code",
   "execution_count": 1,
   "id": "d3720ffa",
   "metadata": {},
   "outputs": [],
   "source": [
    "import pandas as pd\n",
    "df = pd.read_csv('train.csv')\n"
   ]
  },
  {
   "cell_type": "code",
   "execution_count": 3,
   "id": "aff8a27f",
   "metadata": {},
   "outputs": [
    {
     "name": "stdout",
     "output_type": "stream",
     "text": [
      "<class 'pandas.core.frame.DataFrame'>\n",
      "RangeIndex: 36992 entries, 0 to 36991\n",
      "Data columns (total 25 columns):\n",
      " #   Column                        Non-Null Count  Dtype  \n",
      "---  ------                        --------------  -----  \n",
      " 0   customer_id                   36992 non-null  object \n",
      " 1   Name                          36992 non-null  object \n",
      " 2   age                           36992 non-null  int64  \n",
      " 3   gender                        36992 non-null  object \n",
      " 4   security_no                   36992 non-null  object \n",
      " 5   region_category               31564 non-null  object \n",
      " 6   membership_category           36992 non-null  object \n",
      " 7   joining_date                  36992 non-null  object \n",
      " 8   joined_through_referral       36992 non-null  object \n",
      " 9   referral_id                   36992 non-null  object \n",
      " 10  preferred_offer_types         36704 non-null  object \n",
      " 11  medium_of_operation           36992 non-null  object \n",
      " 12  internet_option               36992 non-null  object \n",
      " 13  last_visit_time               36992 non-null  object \n",
      " 14  days_since_last_login         36992 non-null  int64  \n",
      " 15  avg_time_spent                36992 non-null  float64\n",
      " 16  avg_transaction_value         36992 non-null  float64\n",
      " 17  avg_frequency_login_days      36992 non-null  object \n",
      " 18  points_in_wallet              33549 non-null  float64\n",
      " 19  used_special_discount         36992 non-null  object \n",
      " 20  offer_application_preference  36992 non-null  object \n",
      " 21  past_complaint                36992 non-null  object \n",
      " 22  complaint_status              36992 non-null  object \n",
      " 23  feedback                      36992 non-null  object \n",
      " 24  churn_risk_score              36992 non-null  int64  \n",
      "dtypes: float64(3), int64(3), object(19)\n",
      "memory usage: 7.1+ MB\n",
      "None\n"
     ]
    }
   ],
   "source": [
    "# Get information about the dataset\n",
    "print(df.info())"
   ]
  },
  {
   "cell_type": "code",
   "execution_count": 4,
   "id": "9fdda167",
   "metadata": {},
   "outputs": [
    {
     "name": "stdout",
     "output_type": "stream",
     "text": [
      "                age  days_since_last_login  avg_time_spent  \\\n",
      "count  36992.000000           36992.000000    36992.000000   \n",
      "mean      37.118161             -41.915576      243.472334   \n",
      "std       15.867412             228.819900      398.289149   \n",
      "min       10.000000            -999.000000    -2814.109110   \n",
      "25%       23.000000               8.000000       60.102500   \n",
      "50%       37.000000              12.000000      161.765000   \n",
      "75%       51.000000              16.000000      356.515000   \n",
      "max       64.000000              26.000000     3235.578521   \n",
      "\n",
      "       avg_transaction_value  points_in_wallet  churn_risk_score  \n",
      "count           36992.000000      33549.000000      36992.000000  \n",
      "mean            29271.194003        686.882199          3.463397  \n",
      "std             19444.806226        194.063624          1.409661  \n",
      "min               800.460000       -760.661236         -1.000000  \n",
      "25%             14177.540000        616.150000          3.000000  \n",
      "50%             27554.485000        697.620000          4.000000  \n",
      "75%             40855.110000        763.950000          5.000000  \n",
      "max             99914.050000       2069.069761          5.000000  \n"
     ]
    }
   ],
   "source": [
    "# Get statistical summaries of numerical columns\n",
    "print(df.describe())"
   ]
  },
  {
   "cell_type": "code",
   "execution_count": 5,
   "id": "20238000",
   "metadata": {},
   "outputs": [],
   "source": [
    "# Fill missing values in 'region_category' with the most frequent category\n",
    "df['region_category'].fillna(df['region_category'].mode()[0], inplace=True)\n",
    "\n",
    "# Fill missing values in 'preferred_offer_types' with the most frequent offer type\n",
    "df['preferred_offer_types'].fillna(df['preferred_offer_types'].mode()[0], inplace=True)\n",
    "\n",
    "# Impute missing values in 'points_in_wallet' with the mean value\n",
    "df['points_in_wallet'].fillna(df['points_in_wallet'].mean(), inplace=True)\n"
   ]
  },
  {
   "cell_type": "code",
   "execution_count": 6,
   "id": "0a07e986",
   "metadata": {},
   "outputs": [
    {
     "name": "stdout",
     "output_type": "stream",
     "text": [
      "gender: 3 unique categories\n",
      "region_category: 3 unique categories\n",
      "membership_category: 6 unique categories\n",
      "joined_through_referral: 3 unique categories\n",
      "preferred_offer_types: 3 unique categories\n",
      "medium_of_operation: 4 unique categories\n",
      "internet_option: 3 unique categories\n",
      "used_special_discount: 2 unique categories\n",
      "offer_application_preference: 2 unique categories\n",
      "past_complaint: 2 unique categories\n",
      "complaint_status: 5 unique categories\n",
      "feedback: 9 unique categories\n"
     ]
    }
   ],
   "source": [
    "# Check the number of unique categories in each column\n",
    "categorical_cols = ['gender', 'region_category', 'membership_category', 'joined_through_referral',\n",
    "                    'preferred_offer_types', 'medium_of_operation', 'internet_option',\n",
    "                    'used_special_discount', 'offer_application_preference', 'past_complaint',\n",
    "                    'complaint_status', 'feedback']\n",
    "\n",
    "for col in categorical_cols:\n",
    "    unique_categories = df[col].nunique()\n",
    "    print(f\"{col}: {unique_categories} unique categories\")\n"
   ]
  },
  {
   "cell_type": "code",
   "execution_count": 7,
   "id": "4a24afd3",
   "metadata": {},
   "outputs": [],
   "source": [
    "from sklearn.preprocessing import LabelEncoder\n",
    "\n",
    "label_encoder = LabelEncoder()\n",
    "\n",
    "# Perform label encoding for the columns with a small number of unique categories\n",
    "columns_to_label_encode = ['gender', 'region_category', 'joined_through_referral', 'preferred_offer_types',\n",
    "                           'medium_of_operation', 'internet_option', 'used_special_discount',\n",
    "                           'offer_application_preference', 'past_complaint']\n",
    "\n",
    "for col in columns_to_label_encode:\n",
    "    df[col] = label_encoder.fit_transform(df[col])\n"
   ]
  },
  {
   "cell_type": "code",
   "execution_count": 8,
   "id": "311f7160",
   "metadata": {},
   "outputs": [],
   "source": [
    "# Perform one-hot encoding for the 'membership_category' column\n",
    "df = pd.get_dummies(df, columns=['membership_category'], prefix='membership')\n"
   ]
  },
  {
   "cell_type": "code",
   "execution_count": 9,
   "id": "185418c8",
   "metadata": {},
   "outputs": [],
   "source": [
    "# Convert 'joining_date' to datetime format\n",
    "df['joining_date'] = pd.to_datetime(df['joining_date'])\n",
    "\n",
    "# Convert 'last_visit_time' to datetime format\n",
    "df['last_visit_time'] = pd.to_datetime(df['last_visit_time'], format='%H:%M:%S')\n"
   ]
  },
  {
   "cell_type": "code",
   "execution_count": 10,
   "id": "4d72ce25",
   "metadata": {},
   "outputs": [],
   "source": [
    "# Extract year from 'joining_date'\n",
    "df['joining_year'] = df['joining_date'].dt.year\n",
    "\n",
    "# Extract month from 'joining_date'\n",
    "df['joining_month'] = df['joining_date'].dt.month\n",
    "\n",
    "# Extract day of the week from 'last_visit_time'\n",
    "df['last_visit_dayofweek'] = df['last_visit_time'].dt.dayofweek\n"
   ]
  },
  {
   "cell_type": "code",
   "execution_count": 11,
   "id": "30c98f1f",
   "metadata": {},
   "outputs": [
    {
     "name": "stdout",
     "output_type": "stream",
     "text": [
      "Not Applicable              18602\n",
      "Unsolved                     4644\n",
      "Solved                       4619\n",
      "Solved in Follow-up          4577\n",
      "No Information Available     4550\n",
      "Name: complaint_status, dtype: int64\n"
     ]
    }
   ],
   "source": [
    "print(df['complaint_status'].value_counts())\n"
   ]
  },
  {
   "cell_type": "code",
   "execution_count": 12,
   "id": "0a9b4dfa",
   "metadata": {},
   "outputs": [],
   "source": [
    "from sklearn.preprocessing import LabelEncoder\n",
    "\n",
    "label_encoder = LabelEncoder()\n",
    "\n",
    "# Perform label encoding for 'complaint_status' column\n",
    "df['complaint_status'] = label_encoder.fit_transform(df['complaint_status'])\n"
   ]
  },
  {
   "cell_type": "code",
   "execution_count": 13,
   "id": "f4bc3a5e",
   "metadata": {},
   "outputs": [
    {
     "name": "stdout",
     "output_type": "stream",
     "text": [
      "Poor Product Quality        6350\n",
      "No reason specified         6290\n",
      "Too many ads                6279\n",
      "Poor Website                6271\n",
      "Poor Customer Service       6252\n",
      "Reasonable Price            1417\n",
      "User Friendly Website       1391\n",
      "Products always in Stock    1382\n",
      "Quality Customer Care       1360\n",
      "Name: feedback, dtype: int64\n"
     ]
    }
   ],
   "source": [
    "print(df['feedback'].value_counts())\n"
   ]
  },
  {
   "cell_type": "code",
   "execution_count": 14,
   "id": "aa836472",
   "metadata": {},
   "outputs": [],
   "source": [
    "# Perform one-hot encoding for the 'feedback' column\n",
    "df = pd.get_dummies(df, columns=['feedback'], prefix='feedback')\n"
   ]
  },
  {
   "cell_type": "code",
   "execution_count": 15,
   "id": "b4e2d090",
   "metadata": {},
   "outputs": [],
   "source": [
    "from sklearn.impute import SimpleImputer\n",
    "from sklearn.preprocessing import StandardScaler\n",
    "\n",
    "# Handle missing values with mean imputation\n",
    "imputer = SimpleImputer(strategy='mean')\n",
    "num_cols = ['age', 'days_since_last_login', 'avg_time_spent', 'avg_transaction_value', 'points_in_wallet']\n",
    "df[num_cols] = imputer.fit_transform(df[num_cols])\n",
    "\n",
    "# Perform feature scaling using standardization\n",
    "scaler = StandardScaler()\n",
    "df[num_cols] = scaler.fit_transform(df[num_cols])\n"
   ]
  },
  {
   "cell_type": "code",
   "execution_count": 16,
   "id": "815f7486",
   "metadata": {},
   "outputs": [
    {
     "name": "stdout",
     "output_type": "stream",
     "text": [
      "age                      0\n",
      "days_since_last_login    0\n",
      "avg_time_spent           0\n",
      "avg_transaction_value    0\n",
      "points_in_wallet         0\n",
      "dtype: int64\n",
      "age                     -7.356668e-17\n",
      "days_since_last_login   -1.152481e-17\n",
      "avg_time_spent          -2.938826e-17\n",
      "avg_transaction_value   -1.114065e-17\n",
      "points_in_wallet         1.619235e-16\n",
      "dtype: float64\n",
      "age                      1.000014\n",
      "days_since_last_login    1.000014\n",
      "avg_time_spent           1.000014\n",
      "avg_transaction_value    1.000014\n",
      "points_in_wallet         1.000014\n",
      "dtype: float64\n"
     ]
    }
   ],
   "source": [
    "# Check missing values in numerical columns\n",
    "print(df[num_cols].isnull().sum())\n",
    "\n",
    "# Check mean and standard deviation of numerical columns\n",
    "print(df[num_cols].mean())\n",
    "print(df[num_cols].std())\n"
   ]
  },
  {
   "cell_type": "code",
   "execution_count": 17,
   "id": "eb1b9bb0",
   "metadata": {},
   "outputs": [],
   "source": [
    "import pandas as pd\n",
    "from sklearn.preprocessing import LabelEncoder\n",
    "\n",
    "# Load the training data\n",
    "df_train = pd.read_csv('train.csv')\n",
    "\n",
    "# Perform necessary preprocessing steps\n",
    "# Example steps:\n",
    "# 1. Drop irrelevant columns\n",
    "df_train = df_train.drop(['customer_id', 'Name', 'security_no'], axis=1)\n",
    "\n",
    "# 2. Convert date column to datetime\n",
    "df_train['joining_date'] = pd.to_datetime(df_train['joining_date'])\n",
    "\n",
    "# 3. Encode categorical variables\n",
    "label_encoder = LabelEncoder()\n",
    "categorical_cols = ['gender', 'region_category', 'membership_category', 'joined_through_referral', 'preferred_offer_types',\n",
    "                    'medium_of_operation', 'internet_option', 'used_special_discount', 'offer_application_preference',\n",
    "                    'past_complaint', 'complaint_status', 'feedback']\n",
    "\n",
    "for col in categorical_cols:\n",
    "    df_train[col] = label_encoder.fit_transform(df_train[col])\n",
    "\n",
    "# 4. Handle missing values\n",
    "# Example: Fill missing values in numerical columns with mean\n",
    "df_train['avg_time_spent'].fillna(df_train['avg_time_spent'].mean(), inplace=True)\n",
    "df_train['points_in_wallet'].fillna(df_train['points_in_wallet'].mean(), inplace=True)\n",
    "\n",
    "# Split the data into features and target variable\n",
    "X = df_train.drop('churn_risk_score', axis=1)\n",
    "y = df_train['churn_risk_score']\n",
    "\n",
    "# Continue with the rest of the code (e.g., splitting the data, model training, etc.)\n"
   ]
  },
  {
   "cell_type": "code",
   "execution_count": 18,
   "id": "7830135b",
   "metadata": {},
   "outputs": [],
   "source": [
    "df['avg_frequency_login_days'] = pd.to_numeric(df['avg_frequency_login_days'], errors='coerce')\n",
    "df['avg_frequency_login_days'] = df['avg_frequency_login_days'].astype(float)\n"
   ]
  },
  {
   "cell_type": "code",
   "execution_count": 19,
   "id": "873724b0",
   "metadata": {},
   "outputs": [],
   "source": [
    "df['joining_year'] = df['joining_date'].dt.year\n",
    "df['joining_month'] = df['joining_date'].dt.month\n",
    "df['last_visit_dayofweek'] = df['last_visit_time'].dt.dayofweek\n",
    "\n",
    "df = df.drop(['joining_date', 'last_visit_time'], axis=1)\n"
   ]
  },
  {
   "cell_type": "code",
   "execution_count": 20,
   "id": "7c70aa62",
   "metadata": {},
   "outputs": [
    {
     "name": "stdout",
     "output_type": "stream",
     "text": [
      "['customer_id', 'Name', 'security_no', 'referral_id']\n"
     ]
    }
   ],
   "source": [
    "non_numeric_columns = df.select_dtypes(include='object').columns.tolist()\n",
    "print(non_numeric_columns)\n"
   ]
  },
  {
   "cell_type": "code",
   "execution_count": 21,
   "id": "c9de20a9",
   "metadata": {},
   "outputs": [],
   "source": [
    "non_numeric_columns = ['customer_id', 'Name', 'security_no', 'referral_id']\n",
    "df.drop(non_numeric_columns, axis=1, inplace=True)\n"
   ]
  },
  {
   "cell_type": "code",
   "execution_count": 22,
   "id": "093ea4d7",
   "metadata": {},
   "outputs": [],
   "source": [
    "from sklearn.model_selection import train_test_split\n",
    "from sklearn.ensemble import RandomForestClassifier\n",
    "from sklearn.impute import SimpleImputer\n",
    "\n",
    "# Assuming your data is stored in a DataFrame called 'df'\n",
    "\n",
    "# Define the features (X) and target variable (y)\n",
    "features = df.drop(['churn_risk_score'], axis=1)\n",
    "target = df['churn_risk_score']\n",
    "\n",
    "# Split the data into training and validation sets\n",
    "X_train, X_val, y_train, y_val = train_test_split(features, target, test_size=0.2, random_state=42)\n",
    "\n",
    "# Create an imputer object\n",
    "imputer = SimpleImputer(strategy='mean')\n",
    "\n",
    "# Fit the imputer on the training data\n",
    "imputer.fit(X_train)\n",
    "\n",
    "# Transform the training and validation data\n",
    "X_train_imputed = imputer.transform(X_train)\n",
    "X_val_imputed = imputer.transform(X_val)\n",
    "\n",
    "# Create a Random Forest classifier\n",
    "rf_model = RandomForestClassifier()\n",
    "\n",
    "# Train the model on the imputed training data\n",
    "rf_model.fit(X_train_imputed, y_train)\n",
    "\n",
    "# Make predictions on the imputed validation data\n",
    "y_pred = rf_model.predict(X_val_imputed)\n"
   ]
  },
  {
   "cell_type": "code",
   "execution_count": 23,
   "id": "ed65f53f",
   "metadata": {},
   "outputs": [
    {
     "name": "stdout",
     "output_type": "stream",
     "text": [
      "Accuracy: 0.7423976213001757\n"
     ]
    }
   ],
   "source": [
    "from sklearn.metrics import accuracy_score\n",
    "\n",
    "accuracy = accuracy_score(y_val, y_pred)\n",
    "print(f\"Accuracy: {accuracy}\")\n"
   ]
  },
  {
   "cell_type": "code",
   "execution_count": 24,
   "id": "62f07a65",
   "metadata": {},
   "outputs": [
    {
     "name": "stdout",
     "output_type": "stream",
     "text": [
      "              precision    recall  f1-score   support\n",
      "\n",
      "          -1       0.00      0.00      0.00       236\n",
      "           1       0.70      0.76      0.73       506\n",
      "           2       0.76      0.75      0.76       548\n",
      "           3       0.87      0.90      0.89      2087\n",
      "           4       0.68      0.53      0.59      2020\n",
      "           5       0.68      0.87      0.77      2002\n",
      "\n",
      "    accuracy                           0.74      7399\n",
      "   macro avg       0.61      0.64      0.62      7399\n",
      "weighted avg       0.72      0.74      0.72      7399\n",
      "\n"
     ]
    },
    {
     "name": "stderr",
     "output_type": "stream",
     "text": [
      "C:\\Users\\sandu\\AppData\\Local\\Programs\\Python\\Python310\\lib\\site-packages\\sklearn\\metrics\\_classification.py:1334: UndefinedMetricWarning: Precision and F-score are ill-defined and being set to 0.0 in labels with no predicted samples. Use `zero_division` parameter to control this behavior.\n",
      "  _warn_prf(average, modifier, msg_start, len(result))\n",
      "C:\\Users\\sandu\\AppData\\Local\\Programs\\Python\\Python310\\lib\\site-packages\\sklearn\\metrics\\_classification.py:1334: UndefinedMetricWarning: Precision and F-score are ill-defined and being set to 0.0 in labels with no predicted samples. Use `zero_division` parameter to control this behavior.\n",
      "  _warn_prf(average, modifier, msg_start, len(result))\n",
      "C:\\Users\\sandu\\AppData\\Local\\Programs\\Python\\Python310\\lib\\site-packages\\sklearn\\metrics\\_classification.py:1334: UndefinedMetricWarning: Precision and F-score are ill-defined and being set to 0.0 in labels with no predicted samples. Use `zero_division` parameter to control this behavior.\n",
      "  _warn_prf(average, modifier, msg_start, len(result))\n"
     ]
    }
   ],
   "source": [
    "from sklearn.metrics import classification_report\n",
    "\n",
    "report = classification_report(y_val, y_pred)\n",
    "print(report)\n"
   ]
  },
  {
   "cell_type": "code",
   "execution_count": 25,
   "id": "e034c2ef",
   "metadata": {},
   "outputs": [
    {
     "data": {
      "image/png": "[encoded data removed]",
      "text/plain": [
       "<Figure size 640x480 with 2 Axes>"
      ]
     },
     "metadata": {},
     "output_type": "display_data"
    }
   ],
   "source": [
    "from sklearn.metrics import confusion_matrix\n",
    "import seaborn as sns\n",
    "import matplotlib.pyplot as plt\n",
    "\n",
    "cm = confusion_matrix(y_val, y_pred)\n",
    "sns.heatmap(cm, annot=True, fmt='d')\n",
    "plt.xlabel('Predicted')\n",
    "plt.ylabel('Actual')\n",
    "plt.show()\n",
    "\n"
   ]
  },
  {
   "cell_type": "code",
   "execution_count": 26,
   "id": "4200b02b",
   "metadata": {},
   "outputs": [
    {
     "name": "stdout",
     "output_type": "stream",
     "text": [
      "                           Feature  Importance\n",
      "11                points_in_wallet    0.218923\n",
      "9            avg_transaction_value    0.087448\n",
      "16                churn_risk_score    0.064618\n",
      "18      membership_Gold Membership    0.061633\n",
      "8                   avg_time_spent    0.047100\n",
      "10        avg_frequency_login_days    0.044011\n",
      "0                              age    0.040975\n",
      "7            days_since_last_login    0.036868\n",
      "23                    joining_year    0.031124\n",
      "20  membership_Platinum Membership    0.030837\n"
     ]
    }
   ],
   "source": [
    "import pandas as pd\n",
    "\n",
    "# Retrieve Feature Importances\n",
    "feature_importances = rf_model.feature_importances_\n",
    "\n",
    "# Match Feature Importances with Feature Names\n",
    "feature_names = df.columns\n",
    "\n",
    "# Check if the lengths match\n",
    "if len(feature_names) == len(feature_importances):\n",
    "    # Create a Feature Importance DataFrame\n",
    "    feature_importances_df = pd.DataFrame({'Feature': feature_names, 'Importance': feature_importances})\n",
    "\n",
    "    # Sort the DataFrame\n",
    "    feature_importances_df = feature_importances_df.sort_values('Importance', ascending=False)\n",
    "\n",
    "    # Get the Top Churn Drivers\n",
    "    top_churn_drivers = feature_importances_df.head(10)  # Select the top 'n' churn drivers\n",
    "\n",
    "    print(top_churn_drivers)\n",
    "else:\n",
    "    # Adjust the length of feature_names to match feature_importances\n",
    "    feature_names = feature_names[:len(feature_importances)]\n",
    "\n",
    "    # Create a Feature Importance DataFrame\n",
    "    feature_importances_df = pd.DataFrame({'Feature': feature_names, 'Importance': feature_importances})\n",
    "\n",
    "    # Sort the DataFrame\n",
    "    feature_importances_df = feature_importances_df.sort_values('Importance', ascending=False)\n",
    "\n",
    "    # Get the Top Churn Drivers\n",
    "    top_churn_drivers = feature_importances_df.head(10)  # Select the top 'n' churn drivers\n",
    "\n",
    "    print(top_churn_drivers)\n"
   ]
  },
  {
   "cell_type": "code",
   "execution_count": null,
   "id": "69341909",
   "metadata": {},
   "outputs": [],
   "source": []
  }
 ],
 "metadata": {
  "kernelspec": {
   "display_name": "Python 3 (ipykernel)",
   "language": "python",
   "name": "python3"
  },
  "language_info": {
   "codemirror_mode": {
    "name": "ipython",
    "version": 3
   },
   "file_extension": ".py",
   "mimetype": "text/x-python",
   "name": "python",
   "nbconvert_exporter": "python",
   "pygments_lexer": "ipython3",
   "version": "3.10.6"
  }
 },
 "nbformat": 4,
 "nbformat_minor": 5
}
